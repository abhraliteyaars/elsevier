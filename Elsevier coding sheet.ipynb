{
 "cells": [
  {
   "attachments": {},
   "cell_type": "markdown",
   "id": "ab5173f0",
   "metadata": {},
   "source": [
    "Data(Exercise 1a)- Which author has the most 'wrong scope' decisions"
   ]
  },
  {
   "cell_type": "code",
   "execution_count": 64,
   "id": "c6d50b6c",
   "metadata": {},
   "outputs": [
    {
     "data": {
      "text/html": [
       "<div>\n",
       "<style scoped>\n",
       "    .dataframe tbody tr th:only-of-type {\n",
       "        vertical-align: middle;\n",
       "    }\n",
       "\n",
       "    .dataframe tbody tr th {\n",
       "        vertical-align: top;\n",
       "    }\n",
       "\n",
       "    .dataframe thead th {\n",
       "        text-align: right;\n",
       "    }\n",
       "</style>\n",
       "<table border=\"1\" class=\"dataframe\">\n",
       "  <thead>\n",
       "    <tr style=\"text-align: right;\">\n",
       "      <th></th>\n",
       "      <th>submission_id</th>\n",
       "      <th>submission_type</th>\n",
       "      <th>author_id</th>\n",
       "      <th>decision_id</th>\n",
       "    </tr>\n",
       "  </thead>\n",
       "  <tbody>\n",
       "    <tr>\n",
       "      <th>0</th>\n",
       "      <td>1</td>\n",
       "      <td>submission</td>\n",
       "      <td>1</td>\n",
       "      <td>2</td>\n",
       "    </tr>\n",
       "    <tr>\n",
       "      <th>2</th>\n",
       "      <td>3</td>\n",
       "      <td>submission</td>\n",
       "      <td>3</td>\n",
       "      <td>2</td>\n",
       "    </tr>\n",
       "    <tr>\n",
       "      <th>4</th>\n",
       "      <td>5</td>\n",
       "      <td>submission</td>\n",
       "      <td>1</td>\n",
       "      <td>2</td>\n",
       "    </tr>\n",
       "  </tbody>\n",
       "</table>\n",
       "</div>"
      ],
      "text/plain": [
       "   submission_id submission_type  author_id  decision_id\n",
       "0              1      submission          1            2\n",
       "2              3      submission          3            2\n",
       "4              5      submission          1            2"
      ]
     },
     "execution_count": 64,
     "metadata": {},
     "output_type": "execute_result"
    }
   ],
   "source": [
    "#Read the 3 tables into 3 data frames\n",
    "\n",
    "df1=pd.read_csv('fct_submission.csv')\n",
    "df2=pd.read_csv('Dim_decision.csv')\n",
    "df3=pd.read_csv('Dim_autho.csv')\n",
    "\n",
    "#filter df1 such that we only pick entries where Decision id =2(rejected)\n",
    "rej_submission=df1[df1['decision_id']==2]\n",
    "rej_submission"
   ]
  },
  {
   "cell_type": "code",
   "execution_count": 65,
   "id": "376dae4b",
   "metadata": {},
   "outputs": [
    {
     "data": {
      "text/html": [
       "<div>\n",
       "<style scoped>\n",
       "    .dataframe tbody tr th:only-of-type {\n",
       "        vertical-align: middle;\n",
       "    }\n",
       "\n",
       "    .dataframe tbody tr th {\n",
       "        vertical-align: top;\n",
       "    }\n",
       "\n",
       "    .dataframe thead th {\n",
       "        text-align: right;\n",
       "    }\n",
       "</style>\n",
       "<table border=\"1\" class=\"dataframe\">\n",
       "  <thead>\n",
       "    <tr style=\"text-align: right;\">\n",
       "      <th></th>\n",
       "      <th>submission_id</th>\n",
       "      <th>submission_type</th>\n",
       "      <th>author_id</th>\n",
       "      <th>decision_id</th>\n",
       "      <th>author_name</th>\n",
       "      <th>author_institution</th>\n",
       "    </tr>\n",
       "  </thead>\n",
       "  <tbody>\n",
       "    <tr>\n",
       "      <th>0</th>\n",
       "      <td>1</td>\n",
       "      <td>submission</td>\n",
       "      <td>1</td>\n",
       "      <td>2</td>\n",
       "      <td>Maria</td>\n",
       "      <td>University A</td>\n",
       "    </tr>\n",
       "    <tr>\n",
       "      <th>1</th>\n",
       "      <td>5</td>\n",
       "      <td>submission</td>\n",
       "      <td>1</td>\n",
       "      <td>2</td>\n",
       "      <td>Maria</td>\n",
       "      <td>University A</td>\n",
       "    </tr>\n",
       "    <tr>\n",
       "      <th>2</th>\n",
       "      <td>3</td>\n",
       "      <td>submission</td>\n",
       "      <td>3</td>\n",
       "      <td>2</td>\n",
       "      <td>Mohammed</td>\n",
       "      <td>University A</td>\n",
       "    </tr>\n",
       "  </tbody>\n",
       "</table>\n",
       "</div>"
      ],
      "text/plain": [
       "   submission_id submission_type  author_id  decision_id author_name  \\\n",
       "0              1      submission          1            2       Maria   \n",
       "1              5      submission          1            2       Maria   \n",
       "2              3      submission          3            2    Mohammed   \n",
       "\n",
       "  author_institution  \n",
       "0       University A  \n",
       "1       University A  \n",
       "2       University A  "
      ]
     },
     "execution_count": 65,
     "metadata": {},
     "output_type": "execute_result"
    }
   ],
   "source": [
    "#For the rejected submissions merge with author table to gather the names of the author\n",
    "rej_submission=rej_submission.merge(df3,on='author_id') \n",
    "rej_submission"
   ]
  },
  {
   "cell_type": "code",
   "execution_count": null,
   "id": "6afccc5b",
   "metadata": {},
   "outputs": [],
   "source": [
    "#On the merged table roll up the table such that each row contains the author name and number of rejected submissions generated\n",
    "df_final=rej_submission.groupby(by='author_name').count().reset_index()\n"
   ]
  },
  {
   "cell_type": "code",
   "execution_count": null,
   "id": "4a54c74a",
   "metadata": {},
   "outputs": [],
   "source": [
    "\n",
    "#retain only the necessary columns\n",
    "df_final_rejected_submissions=df_final[['author_name','submission_id']]\n",
    "\n",
    "#output dataframe\n",
    "df_final_rejected_submissions"
   ]
  },
  {
   "attachments": {},
   "cell_type": "markdown",
   "id": "dee50543",
   "metadata": {},
   "source": [
    "Data(Exercise 1b)- What is the editor acceptance rate per institution? "
   ]
  },
  {
   "cell_type": "code",
   "execution_count": 41,
   "id": "dd8b3336",
   "metadata": {},
   "outputs": [],
   "source": [
    "#Already the 3 files have been read\n",
    "\n",
    "#Merge the Submission table with author table\n",
    "auth_submission=df3.merge(df1,on='author_id') "
   ]
  },
  {
   "cell_type": "code",
   "execution_count": 45,
   "id": "fff7e800",
   "metadata": {},
   "outputs": [
    {
     "data": {
      "text/html": [
       "<div>\n",
       "<style scoped>\n",
       "    .dataframe tbody tr th:only-of-type {\n",
       "        vertical-align: middle;\n",
       "    }\n",
       "\n",
       "    .dataframe tbody tr th {\n",
       "        vertical-align: top;\n",
       "    }\n",
       "\n",
       "    .dataframe thead th {\n",
       "        text-align: right;\n",
       "    }\n",
       "</style>\n",
       "<table border=\"1\" class=\"dataframe\">\n",
       "  <thead>\n",
       "    <tr style=\"text-align: right;\">\n",
       "      <th></th>\n",
       "      <th>author_id</th>\n",
       "      <th>author_name</th>\n",
       "      <th>author_institution</th>\n",
       "      <th>submission_id</th>\n",
       "      <th>submission_type</th>\n",
       "      <th>decision_id</th>\n",
       "    </tr>\n",
       "  </thead>\n",
       "  <tbody>\n",
       "    <tr>\n",
       "      <th>0</th>\n",
       "      <td>1</td>\n",
       "      <td>Maria</td>\n",
       "      <td>University A</td>\n",
       "      <td>1</td>\n",
       "      <td>submission</td>\n",
       "      <td>0</td>\n",
       "    </tr>\n",
       "    <tr>\n",
       "      <th>1</th>\n",
       "      <td>1</td>\n",
       "      <td>Maria</td>\n",
       "      <td>University A</td>\n",
       "      <td>2</td>\n",
       "      <td>article_transfer</td>\n",
       "      <td>1</td>\n",
       "    </tr>\n",
       "    <tr>\n",
       "      <th>2</th>\n",
       "      <td>1</td>\n",
       "      <td>Maria</td>\n",
       "      <td>University A</td>\n",
       "      <td>5</td>\n",
       "      <td>submission</td>\n",
       "      <td>0</td>\n",
       "    </tr>\n",
       "    <tr>\n",
       "      <th>3</th>\n",
       "      <td>3</td>\n",
       "      <td>Mohammed</td>\n",
       "      <td>University A</td>\n",
       "      <td>3</td>\n",
       "      <td>submission</td>\n",
       "      <td>0</td>\n",
       "    </tr>\n",
       "    <tr>\n",
       "      <th>4</th>\n",
       "      <td>3</td>\n",
       "      <td>Mohammed</td>\n",
       "      <td>University A</td>\n",
       "      <td>3</td>\n",
       "      <td>submission</td>\n",
       "      <td>1</td>\n",
       "    </tr>\n",
       "    <tr>\n",
       "      <th>5</th>\n",
       "      <td>4</td>\n",
       "      <td>Jose</td>\n",
       "      <td>University C</td>\n",
       "      <td>4</td>\n",
       "      <td>submission</td>\n",
       "      <td>1</td>\n",
       "    </tr>\n",
       "  </tbody>\n",
       "</table>\n",
       "</div>"
      ],
      "text/plain": [
       "   author_id author_name author_institution  submission_id   submission_type  \\\n",
       "0          1       Maria       University A              1        submission   \n",
       "1          1       Maria       University A              2  article_transfer   \n",
       "2          1       Maria       University A              5        submission   \n",
       "3          3    Mohammed       University A              3        submission   \n",
       "4          3    Mohammed       University A              3        submission   \n",
       "5          4        Jose       University C              4        submission   \n",
       "\n",
       "   decision_id  \n",
       "0            0  \n",
       "1            1  \n",
       "2            0  \n",
       "3            0  \n",
       "4            1  \n",
       "5            1  "
      ]
     },
     "execution_count": 45,
     "metadata": {},
     "output_type": "execute_result"
    }
   ],
   "source": [
    "auth_submission"
   ]
  },
  {
   "cell_type": "code",
   "execution_count": 44,
   "id": "39de3b87",
   "metadata": {},
   "outputs": [],
   "source": [
    "#create a flag column to show acceptance decision id\n",
    "auth_submission.loc[auth_submission['decision_id'] == 1, 'decision_id'] = 1\n",
    "auth_submission.loc[auth_submission['decision_id'] != 1, 'decision_id'] = 0"
   ]
  },
  {
   "cell_type": "code",
   "execution_count": 57,
   "id": "d8c5909a",
   "metadata": {},
   "outputs": [
    {
     "name": "stderr",
     "output_type": "stream",
     "text": [
      "C:\\Users\\24057\\AppData\\Local\\Temp\\ipykernel_19932\\402639935.py:2: FutureWarning: The default value of numeric_only in DataFrameGroupBy.sum is deprecated. In a future version, numeric_only will default to False. Either specify numeric_only or select only columns which should be valid for the function.\n",
      "  univ_sum=auth_submission.groupby(by='author_institution').sum().reset_index()\n"
     ]
    },
    {
     "data": {
      "text/html": [
       "<div>\n",
       "<style scoped>\n",
       "    .dataframe tbody tr th:only-of-type {\n",
       "        vertical-align: middle;\n",
       "    }\n",
       "\n",
       "    .dataframe tbody tr th {\n",
       "        vertical-align: top;\n",
       "    }\n",
       "\n",
       "    .dataframe thead th {\n",
       "        text-align: right;\n",
       "    }\n",
       "</style>\n",
       "<table border=\"1\" class=\"dataframe\">\n",
       "  <thead>\n",
       "    <tr style=\"text-align: right;\">\n",
       "      <th></th>\n",
       "      <th>author_institution</th>\n",
       "      <th>decision_id</th>\n",
       "    </tr>\n",
       "  </thead>\n",
       "  <tbody>\n",
       "    <tr>\n",
       "      <th>0</th>\n",
       "      <td>University A</td>\n",
       "      <td>2</td>\n",
       "    </tr>\n",
       "    <tr>\n",
       "      <th>1</th>\n",
       "      <td>University C</td>\n",
       "      <td>1</td>\n",
       "    </tr>\n",
       "  </tbody>\n",
       "</table>\n",
       "</div>"
      ],
      "text/plain": [
       "  author_institution  decision_id\n",
       "0       University A            2\n",
       "1       University C            1"
      ]
     },
     "execution_count": 57,
     "metadata": {},
     "output_type": "execute_result"
    }
   ],
   "source": [
    "# create a dataframe to show total accepted entries for that university\n",
    "univ_sum=auth_submission.groupby(by='author_institution').sum().reset_index()\n",
    "univ_sum=univ_sum[['author_institution','decision_id']]\n",
    "univ_sum"
   ]
  },
  {
   "cell_type": "code",
   "execution_count": 56,
   "id": "81a6487d",
   "metadata": {},
   "outputs": [
    {
     "data": {
      "text/html": [
       "<div>\n",
       "<style scoped>\n",
       "    .dataframe tbody tr th:only-of-type {\n",
       "        vertical-align: middle;\n",
       "    }\n",
       "\n",
       "    .dataframe tbody tr th {\n",
       "        vertical-align: top;\n",
       "    }\n",
       "\n",
       "    .dataframe thead th {\n",
       "        text-align: right;\n",
       "    }\n",
       "</style>\n",
       "<table border=\"1\" class=\"dataframe\">\n",
       "  <thead>\n",
       "    <tr style=\"text-align: right;\">\n",
       "      <th></th>\n",
       "      <th>author_institution</th>\n",
       "      <th>submission_id</th>\n",
       "    </tr>\n",
       "  </thead>\n",
       "  <tbody>\n",
       "    <tr>\n",
       "      <th>0</th>\n",
       "      <td>University A</td>\n",
       "      <td>5</td>\n",
       "    </tr>\n",
       "    <tr>\n",
       "      <th>1</th>\n",
       "      <td>University C</td>\n",
       "      <td>1</td>\n",
       "    </tr>\n",
       "  </tbody>\n",
       "</table>\n",
       "</div>"
      ],
      "text/plain": [
       "  author_institution  submission_id\n",
       "0       University A              5\n",
       "1       University C              1"
      ]
     },
     "execution_count": 56,
     "metadata": {},
     "output_type": "execute_result"
    }
   ],
   "source": [
    "# create a dataframe to show total accepted entries for that university\n",
    "univ_count=auth_submission.groupby(by='author_institution').count().reset_index()\n",
    "univ_count=univ_count[['author_institution','submission_id']]\n",
    "univ_count"
   ]
  },
  {
   "cell_type": "code",
   "execution_count": 62,
   "id": "13ef29a8",
   "metadata": {},
   "outputs": [
    {
     "data": {
      "text/html": [
       "<div>\n",
       "<style scoped>\n",
       "    .dataframe tbody tr th:only-of-type {\n",
       "        vertical-align: middle;\n",
       "    }\n",
       "\n",
       "    .dataframe tbody tr th {\n",
       "        vertical-align: top;\n",
       "    }\n",
       "\n",
       "    .dataframe thead th {\n",
       "        text-align: right;\n",
       "    }\n",
       "</style>\n",
       "<table border=\"1\" class=\"dataframe\">\n",
       "  <thead>\n",
       "    <tr style=\"text-align: right;\">\n",
       "      <th></th>\n",
       "      <th>author_institution</th>\n",
       "      <th>decision_id</th>\n",
       "      <th>submission_id</th>\n",
       "      <th>AR</th>\n",
       "    </tr>\n",
       "  </thead>\n",
       "  <tbody>\n",
       "    <tr>\n",
       "      <th>0</th>\n",
       "      <td>University A</td>\n",
       "      <td>2</td>\n",
       "      <td>5</td>\n",
       "      <td>0.4</td>\n",
       "    </tr>\n",
       "    <tr>\n",
       "      <th>1</th>\n",
       "      <td>University C</td>\n",
       "      <td>1</td>\n",
       "      <td>1</td>\n",
       "      <td>1.0</td>\n",
       "    </tr>\n",
       "  </tbody>\n",
       "</table>\n",
       "</div>"
      ],
      "text/plain": [
       "  author_institution  decision_id  submission_id   AR\n",
       "0       University A            2              5  0.4\n",
       "1       University C            1              1  1.0"
      ]
     },
     "execution_count": 62,
     "metadata": {},
     "output_type": "execute_result"
    }
   ],
   "source": [
    "# merge these two dataframes on author_institution\n",
    "df_final=univ_sum.merge(univ_count,on='author_institution')\n",
    "#create an acceptance rate column(sum of decision id/count of submission id)\n",
    "df_final['AR']=df_final['decision_id']/df_final['submission_id']\n",
    "df_final"
   ]
  },
  {
   "cell_type": "markdown",
   "id": "d74b636b",
   "metadata": {},
   "source": [
    "Modelling(exercise 3)"
   ]
  },
  {
   "cell_type": "code",
   "execution_count": 5,
   "id": "70373ab9",
   "metadata": {},
   "outputs": [
    {
     "name": "stdout",
     "output_type": "stream",
     "text": [
      "t-statistic:  35.042486557233985\n",
      "p-value:  7.50396756104829e-250\n"
     ]
    }
   ],
   "source": [
    "import pandas as pd\n",
    "from scipy import stats\n",
    "\n",
    "# Load data from a CSV file into a Pandas DataFrame\n",
    "df = pd.read_csv('Data exercise.csv')\n",
    "\n",
    "# Filter the data by control and treatment groups\n",
    "control_data = df[df[\"control_flag\"] == \"Control\"][\"editor_decision_time_seconds\"]\n",
    "treatment_data = df[df[\"control_flag\"] == \"Treatment\"][\"editor_decision_time_seconds\"]\n",
    "\n",
    "# Perform the t-test\n",
    "t_stat, p_value = stats.ttest_ind(control_data, treatment_data, equal_var=False)\n",
    "\n",
    "# Print the results\n",
    "print(\"t-statistic: \", t_stat)\n",
    "print(\"p-value: \", p_value)"
   ]
  },
  {
   "cell_type": "markdown",
   "id": "3ef2d7b6",
   "metadata": {},
   "source": [
    "There is a statistically significant difference in editor decision times between the control and treatment groups. The t-statistic of 35.04 indicates that the mean decision times for the two groups are significantly different, and the p-value of 7.50e-250 is much smaller than the conventional alpha level of 0.05, suggesting strong evidence against the null hypothesis that there is no difference in decision times between the control and treatment groups.\n",
    "\n",
    "In other words, the p-value is less than the chosen significance level of 0.05, indicating that the probability of observing such a large difference in means by chance alone is very low. Therefore, you can reject the null hypothesis and conclude that there is a statistically significant difference in editor decision times between the control and treatment groups."
   ]
  },
  {
   "cell_type": "code",
   "execution_count": 2,
   "id": "b5416b17",
   "metadata": {},
   "outputs": [
    {
     "name": "stdout",
     "output_type": "stream",
     "text": [
      "Chi-squared statistic:  30.035470014785542\n",
      "p-value:  4.2421525159847305e-08\n",
      "Degrees of freedom:  1\n",
      "Expected values: \n",
      " [[2379.12631222 2060.87368778]\n",
      " [2367.87368778 2051.12631222]]\n"
     ]
    }
   ],
   "source": [
    "import pandas as pd\n",
    "from scipy.stats import chi2_contingency\n",
    "\n",
    "# Load data from a CSV file into a Pandas DataFrame\n",
    "df = pd.read_csv('Data exercise.csv')\n",
    "\n",
    "# Create a contingency table of decision outcomes by control/treatment groups\n",
    "contingency_table = pd.crosstab(df[\"control_flag\"], df[\"decision\"])\n",
    "\n",
    "# Perform the chi-squared test\n",
    "chi2_stat, p_value, dof, expected = chi2_contingency(contingency_table)\n",
    "\n",
    "# Print the results\n",
    "print(\"Chi-squared statistic: \", chi2_stat)\n",
    "print(\"p-value: \", p_value)\n",
    "print(\"Degrees of freedom: \", dof)\n",
    "print(\"Expected values: \\n\", expected)"
   ]
  },
  {
   "cell_type": "markdown",
   "id": "53751198",
   "metadata": {},
   "source": [
    "The chi-squared statistic of 30.04 indicates that there is a large difference between the observed frequencies and the frequencies expected under the null hypothesis of independence (i.e., no association between the control/treatment group and the decision outcomes). The degrees of freedom is 1, which means there is only one degree of freedom in the chi-squared distribution.\n",
    "\n",
    "The p-value of 4.24e-08 is less than the conventional alpha level of 0.05, which indicates that the observed association between the control/treatment group and the decision outcomes is statistically significant. Therefore, you can reject the null hypothesis of independence and conclude that there is a significant association between the control/treatment group and the decision outcomes."
   ]
  },
  {
   "cell_type": "code",
   "execution_count": 4,
   "id": "d1c8a339",
   "metadata": {},
   "outputs": [
    {
     "ename": "SyntaxError",
     "evalue": "invalid syntax (430716874.py, line 1)",
     "output_type": "error",
     "traceback": [
      "\u001b[1;36m  Cell \u001b[1;32mIn[4], line 1\u001b[1;36m\u001b[0m\n\u001b[1;33m    pip install statsmodels\u001b[0m\n\u001b[1;37m        ^\u001b[0m\n\u001b[1;31mSyntaxError\u001b[0m\u001b[1;31m:\u001b[0m invalid syntax\n"
     ]
    }
   ],
   "source": [
    "pip install statsmodels\n",
    "import pandas as pd\n",
    "from statsmodels.tsa.api import ExponentialSmoothing\n",
    "\n",
    "# load the data as a time series\n",
    "data = pd.read_csv('Data exercise_2.csv', parse_dates=['Month'], index_col='Month')\n",
    "\n",
    "# perform exponential smoothing with additive trend and seasonal components\n",
    "model = ExponentialSmoothing(data, trend='add', seasonal='add', seasonal_periods=12)\n",
    "fit = model.fit()\n",
    "\n",
    "# generate forecast for the next 12 periods\n",
    "forecast = fit.forecast(12)\n",
    "\n",
    "# print the forecasted values\n",
    "print(forecast)"
   ]
  },
  {
   "cell_type": "code",
   "execution_count": null,
   "id": "1b4023d9",
   "metadata": {},
   "outputs": [],
   "source": [
    "!pip install statsmodels"
   ]
  }
 ],
 "metadata": {
  "kernelspec": {
   "display_name": "Python 3 (ipykernel)",
   "language": "python",
   "name": "python3"
  },
  "language_info": {
   "codemirror_mode": {
    "name": "ipython",
    "version": 3
   },
   "file_extension": ".py",
   "mimetype": "text/x-python",
   "name": "python",
   "nbconvert_exporter": "python",
   "pygments_lexer": "ipython3",
   "version": "3.9.13"
  }
 },
 "nbformat": 4,
 "nbformat_minor": 5
}
